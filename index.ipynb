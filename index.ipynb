{
 "cells": [
  {
   "cell_type": "markdown",
   "metadata": {},
   "source": [
    "### Module 2 Project - Football Delphi ###\n",
    "## by Khairul Omar ##"
   ]
  },
  {
   "cell_type": "code",
   "execution_count": 890,
   "metadata": {},
   "outputs": [],
   "source": [
    "import pandas as pd\n",
    "import numpy as np\n",
    "import matplotlib.pyplot as plt\n",
    "%matplotlib inline\n",
    "\n",
    "import requests\n",
    "import json\n",
    "\n",
    "import sqlite3\n",
    "con = sqlite3.connect('database.sqlite')\n",
    "cur = con.cursor()"
   ]
  },
  {
   "cell_type": "code",
   "execution_count": 1037,
   "metadata": {},
   "outputs": [],
   "source": [
    "class WeatherGetter():\n",
    "    pass\n",
    "\n",
    "# Please refer to Section 5 below for details of two functions that I have created\n",
    "# that could have been moved here if I had more time:\n",
    "#\n",
    "# getdarksky(lat, lon, date)\n",
    "# - to fetch All raw data for a given location for ONE Time argument\n",
    "#\n",
    "# darksky_rain_info(lat, lon, list_of_dates)\n",
    "# - to fetch \"Weather Icon\" info for a given location for a LIST of Time arguments"
   ]
  },
  {
   "cell_type": "code",
   "execution_count": null,
   "metadata": {},
   "outputs": [],
   "source": [
    "class MongoHandler():\n",
    "    pass"
   ]
  },
  {
   "cell_type": "markdown",
   "metadata": {},
   "source": [
    "### Data exploration ###"
   ]
  },
  {
   "cell_type": "markdown",
   "metadata": {},
   "source": [
    "Preview table 1: Unique Teams"
   ]
  },
  {
   "cell_type": "code",
   "execution_count": 136,
   "metadata": {},
   "outputs": [
    {
     "data": {
      "text/plain": [
       "(128, 2)"
      ]
     },
     "metadata": {},
     "output_type": "display_data"
    },
    {
     "data": {
      "text/html": [
       "<div>\n",
       "<style scoped>\n",
       "    .dataframe tbody tr th:only-of-type {\n",
       "        vertical-align: middle;\n",
       "    }\n",
       "\n",
       "    .dataframe tbody tr th {\n",
       "        vertical-align: top;\n",
       "    }\n",
       "\n",
       "    .dataframe thead th {\n",
       "        text-align: right;\n",
       "    }\n",
       "</style>\n",
       "<table border=\"1\" class=\"dataframe\">\n",
       "  <thead>\n",
       "    <tr style=\"text-align: right;\">\n",
       "      <th></th>\n",
       "      <th>TeamName</th>\n",
       "      <th>Unique_Team_ID</th>\n",
       "    </tr>\n",
       "  </thead>\n",
       "  <tbody>\n",
       "    <tr>\n",
       "      <td>0</td>\n",
       "      <td>Bayern Munich</td>\n",
       "      <td>1</td>\n",
       "    </tr>\n",
       "    <tr>\n",
       "      <td>1</td>\n",
       "      <td>Dortmund</td>\n",
       "      <td>2</td>\n",
       "    </tr>\n",
       "    <tr>\n",
       "      <td>2</td>\n",
       "      <td>Leverkusen</td>\n",
       "      <td>3</td>\n",
       "    </tr>\n",
       "  </tbody>\n",
       "</table>\n",
       "</div>"
      ],
      "text/plain": [
       "        TeamName  Unique_Team_ID\n",
       "0  Bayern Munich               1\n",
       "1       Dortmund               2\n",
       "2     Leverkusen               3"
      ]
     },
     "metadata": {},
     "output_type": "display_data"
    }
   ],
   "source": [
    "# Query table \"unique_teams\"\n",
    "\n",
    "query = \"\"\"SELECT *\n",
    "           FROM unique_teams\n",
    "           \"\"\"\n",
    "ut = pd.read_sql_query(query, con)\n",
    "display(ut.shape)\n",
    "display(ut.head(3))"
   ]
  },
  {
   "cell_type": "markdown",
   "metadata": {},
   "source": [
    "Preview table 2: Team in Matches"
   ]
  },
  {
   "cell_type": "code",
   "execution_count": 746,
   "metadata": {},
   "outputs": [
    {
     "data": {
      "text/plain": [
       "(49148, 2)"
      ]
     },
     "metadata": {},
     "output_type": "display_data"
    },
    {
     "data": {
      "text/html": [
       "<div>\n",
       "<style scoped>\n",
       "    .dataframe tbody tr th:only-of-type {\n",
       "        vertical-align: middle;\n",
       "    }\n",
       "\n",
       "    .dataframe tbody tr th {\n",
       "        vertical-align: top;\n",
       "    }\n",
       "\n",
       "    .dataframe thead th {\n",
       "        text-align: right;\n",
       "    }\n",
       "</style>\n",
       "<table border=\"1\" class=\"dataframe\">\n",
       "  <thead>\n",
       "    <tr style=\"text-align: right;\">\n",
       "      <th></th>\n",
       "      <th>Match_ID</th>\n",
       "      <th>Unique_Team_ID</th>\n",
       "    </tr>\n",
       "  </thead>\n",
       "  <tbody>\n",
       "    <tr>\n",
       "      <td>0</td>\n",
       "      <td>1</td>\n",
       "      <td>26</td>\n",
       "    </tr>\n",
       "    <tr>\n",
       "      <td>1</td>\n",
       "      <td>1</td>\n",
       "      <td>46</td>\n",
       "    </tr>\n",
       "    <tr>\n",
       "      <td>2</td>\n",
       "      <td>2</td>\n",
       "      <td>26</td>\n",
       "    </tr>\n",
       "  </tbody>\n",
       "</table>\n",
       "</div>"
      ],
      "text/plain": [
       "   Match_ID  Unique_Team_ID\n",
       "0         1              26\n",
       "1         1              46\n",
       "2         2              26"
      ]
     },
     "metadata": {},
     "output_type": "display_data"
    }
   ],
   "source": [
    "# Query table \"Team_in_matches\"\n",
    "\n",
    "query = \"\"\"SELECT *\n",
    "           FROM Teams_in_matches\n",
    "           \"\"\"\n",
    "tm = pd.read_sql_query(query, con)\n",
    "display(tm.shape)\n",
    "display(tm.head(3))"
   ]
  },
  {
   "cell_type": "markdown",
   "metadata": {},
   "source": [
    "Preview table 3: Matches"
   ]
  },
  {
   "cell_type": "code",
   "execution_count": 1049,
   "metadata": {},
   "outputs": [
    {
     "data": {
      "text/plain": [
       "(992, 9)"
      ]
     },
     "metadata": {},
     "output_type": "display_data"
    },
    {
     "data": {
      "text/html": [
       "<div>\n",
       "<style scoped>\n",
       "    .dataframe tbody tr th:only-of-type {\n",
       "        vertical-align: middle;\n",
       "    }\n",
       "\n",
       "    .dataframe tbody tr th {\n",
       "        vertical-align: top;\n",
       "    }\n",
       "\n",
       "    .dataframe thead th {\n",
       "        text-align: right;\n",
       "    }\n",
       "</style>\n",
       "<table border=\"1\" class=\"dataframe\">\n",
       "  <thead>\n",
       "    <tr style=\"text-align: right;\">\n",
       "      <th></th>\n",
       "      <th>Match_ID</th>\n",
       "      <th>Div</th>\n",
       "      <th>Season</th>\n",
       "      <th>Date</th>\n",
       "      <th>HomeTeam</th>\n",
       "      <th>AwayTeam</th>\n",
       "      <th>FTHG</th>\n",
       "      <th>FTAG</th>\n",
       "      <th>FTR</th>\n",
       "    </tr>\n",
       "  </thead>\n",
       "  <tbody>\n",
       "    <tr>\n",
       "      <td>0</td>\n",
       "      <td>1574</td>\n",
       "      <td>D2</td>\n",
       "      <td>2011</td>\n",
       "      <td>2011-07-24</td>\n",
       "      <td>Aachen</td>\n",
       "      <td>Braunschweig</td>\n",
       "      <td>0</td>\n",
       "      <td>2</td>\n",
       "      <td>A</td>\n",
       "    </tr>\n",
       "    <tr>\n",
       "      <td>1</td>\n",
       "      <td>1507</td>\n",
       "      <td>D2</td>\n",
       "      <td>2011</td>\n",
       "      <td>2011-08-13</td>\n",
       "      <td>Aachen</td>\n",
       "      <td>Cottbus</td>\n",
       "      <td>0</td>\n",
       "      <td>2</td>\n",
       "      <td>A</td>\n",
       "    </tr>\n",
       "    <tr>\n",
       "      <td>2</td>\n",
       "      <td>1702</td>\n",
       "      <td>D2</td>\n",
       "      <td>2011</td>\n",
       "      <td>2011-08-27</td>\n",
       "      <td>Aachen</td>\n",
       "      <td>Fortuna Dusseldorf</td>\n",
       "      <td>0</td>\n",
       "      <td>0</td>\n",
       "      <td>D</td>\n",
       "    </tr>\n",
       "    <tr>\n",
       "      <td>3</td>\n",
       "      <td>1529</td>\n",
       "      <td>D2</td>\n",
       "      <td>2011</td>\n",
       "      <td>2011-09-18</td>\n",
       "      <td>Aachen</td>\n",
       "      <td>Greuther Furth</td>\n",
       "      <td>0</td>\n",
       "      <td>0</td>\n",
       "      <td>D</td>\n",
       "    </tr>\n",
       "    <tr>\n",
       "      <td>4</td>\n",
       "      <td>1662</td>\n",
       "      <td>D2</td>\n",
       "      <td>2011</td>\n",
       "      <td>2011-09-30</td>\n",
       "      <td>Aachen</td>\n",
       "      <td>Frankfurt FSV</td>\n",
       "      <td>1</td>\n",
       "      <td>3</td>\n",
       "      <td>A</td>\n",
       "    </tr>\n",
       "  </tbody>\n",
       "</table>\n",
       "</div>"
      ],
      "text/plain": [
       "   Match_ID Div  Season        Date HomeTeam            AwayTeam  FTHG  FTAG  \\\n",
       "0      1574  D2    2011  2011-07-24   Aachen        Braunschweig     0     2   \n",
       "1      1507  D2    2011  2011-08-13   Aachen             Cottbus     0     2   \n",
       "2      1702  D2    2011  2011-08-27   Aachen  Fortuna Dusseldorf     0     0   \n",
       "3      1529  D2    2011  2011-09-18   Aachen      Greuther Furth     0     0   \n",
       "4      1662  D2    2011  2011-09-30   Aachen       Frankfurt FSV     1     3   \n",
       "\n",
       "  FTR  \n",
       "0   A  \n",
       "1   A  \n",
       "2   D  \n",
       "3   D  \n",
       "4   A  "
      ]
     },
     "metadata": {},
     "output_type": "display_data"
    }
   ],
   "source": [
    "# Query table \"Matches\"\n",
    "\n",
    "query = \"\"\"SELECT *\n",
    "           FROM Matches\n",
    "           WHERE Season == 2011\n",
    "           ORDER BY HomeTeam, Date\n",
    "           \"\"\"\n",
    "m = pd.read_sql_query(query, con)\n",
    "display(m.shape)\n",
    "display(m.head())"
   ]
  },
  {
   "cell_type": "code",
   "execution_count": 140,
   "metadata": {},
   "outputs": [
    {
     "data": {
      "text/html": [
       "<div>\n",
       "<style scoped>\n",
       "    .dataframe tbody tr th:only-of-type {\n",
       "        vertical-align: middle;\n",
       "    }\n",
       "\n",
       "    .dataframe tbody tr th {\n",
       "        vertical-align: top;\n",
       "    }\n",
       "\n",
       "    .dataframe thead th {\n",
       "        text-align: right;\n",
       "    }\n",
       "</style>\n",
       "<table border=\"1\" class=\"dataframe\">\n",
       "  <thead>\n",
       "    <tr style=\"text-align: right;\">\n",
       "      <th></th>\n",
       "      <th>Total_goals</th>\n",
       "    </tr>\n",
       "  </thead>\n",
       "  <tbody>\n",
       "    <tr>\n",
       "      <td>0</td>\n",
       "      <td>2796</td>\n",
       "    </tr>\n",
       "  </tbody>\n",
       "</table>\n",
       "</div>"
      ],
      "text/plain": [
       "   Total_goals\n",
       "0         2796"
      ]
     },
     "execution_count": 140,
     "metadata": {},
     "output_type": "execute_result"
    }
   ],
   "source": [
    "# Get high-level total as a reference for checking after joining tables\n",
    "\n",
    "query = \"\"\"SELECT SUM(FTHG)+SUM(FTAG) Total_goals\n",
    "           FROM Matches\n",
    "           WHERE Season == 2011\n",
    "           \"\"\"\n",
    "m_check = pd.read_sql_query(query, con)\n",
    "m_check.head()"
   ]
  },
  {
   "cell_type": "markdown",
   "metadata": {},
   "source": [
    "### Question 1 & 2: The name of the team & the total number of goals scored by team during the 2011 season ###"
   ]
  },
  {
   "cell_type": "code",
   "execution_count": 1077,
   "metadata": {},
   "outputs": [
    {
     "data": {
      "text/plain": [
       "(56, 2)"
      ]
     },
     "metadata": {},
     "output_type": "display_data"
    },
    {
     "data": {
      "text/plain": [
       "2796"
      ]
     },
     "metadata": {},
     "output_type": "display_data"
    },
    {
     "data": {
      "text/html": [
       "<div>\n",
       "<style scoped>\n",
       "    .dataframe tbody tr th:only-of-type {\n",
       "        vertical-align: middle;\n",
       "    }\n",
       "\n",
       "    .dataframe tbody tr th {\n",
       "        vertical-align: top;\n",
       "    }\n",
       "\n",
       "    .dataframe thead th {\n",
       "        text-align: right;\n",
       "    }\n",
       "</style>\n",
       "<table border=\"1\" class=\"dataframe\">\n",
       "  <thead>\n",
       "    <tr style=\"text-align: right;\">\n",
       "      <th></th>\n",
       "      <th>Team_name</th>\n",
       "      <th>Total_goals</th>\n",
       "    </tr>\n",
       "  </thead>\n",
       "  <tbody>\n",
       "    <tr>\n",
       "      <td>35</td>\n",
       "      <td>Man City</td>\n",
       "      <td>93</td>\n",
       "    </tr>\n",
       "    <tr>\n",
       "      <td>36</td>\n",
       "      <td>Man United</td>\n",
       "      <td>89</td>\n",
       "    </tr>\n",
       "    <tr>\n",
       "      <td>11</td>\n",
       "      <td>Dortmund</td>\n",
       "      <td>80</td>\n",
       "    </tr>\n",
       "    <tr>\n",
       "      <td>4</td>\n",
       "      <td>Bayern Munich</td>\n",
       "      <td>77</td>\n",
       "    </tr>\n",
       "    <tr>\n",
       "      <td>14</td>\n",
       "      <td>Ein Frankfurt</td>\n",
       "      <td>76</td>\n",
       "    </tr>\n",
       "    <tr>\n",
       "      <td>1</td>\n",
       "      <td>Arsenal</td>\n",
       "      <td>74</td>\n",
       "    </tr>\n",
       "    <tr>\n",
       "      <td>43</td>\n",
       "      <td>Schalke 04</td>\n",
       "      <td>74</td>\n",
       "    </tr>\n",
       "    <tr>\n",
       "      <td>22</td>\n",
       "      <td>Greuther Furth</td>\n",
       "      <td>73</td>\n",
       "    </tr>\n",
       "    <tr>\n",
       "      <td>49</td>\n",
       "      <td>Tottenham</td>\n",
       "      <td>66</td>\n",
       "    </tr>\n",
       "    <tr>\n",
       "      <td>9</td>\n",
       "      <td>Chelsea</td>\n",
       "      <td>65</td>\n",
       "    </tr>\n",
       "  </tbody>\n",
       "</table>\n",
       "</div>"
      ],
      "text/plain": [
       "         Team_name  Total_goals\n",
       "35        Man City           93\n",
       "36      Man United           89\n",
       "11        Dortmund           80\n",
       "4    Bayern Munich           77\n",
       "14   Ein Frankfurt           76\n",
       "1          Arsenal           74\n",
       "43      Schalke 04           74\n",
       "22  Greuther Furth           73\n",
       "49       Tottenham           66\n",
       "9          Chelsea           65"
      ]
     },
     "metadata": {},
     "output_type": "display_data"
    }
   ],
   "source": [
    "# Total goals per team\n",
    "\n",
    "query = \"\"\"SELECT Team_name, SUM(Total_goals) Total_goals\n",
    "           FROM \n",
    "                (\n",
    "                 SELECT ut.TeamName Team_name,\n",
    "                        SUM(m.FTHG) Total_goals\n",
    "                 FROM unique_teams ut \n",
    "                 JOIN matches m\n",
    "                 ON ut.TeamName = m.HomeTeam\n",
    "                 WHERE m.Season == 2011 \n",
    "                 GROUP BY Team_name \n",
    "                 \n",
    "                 UNION ALL\n",
    "                 \n",
    "                 SELECT ut.TeamName Team_name,\n",
    "                        SUM(m.FTAG) Total_goals\n",
    "                 FROM unique_teams ut \n",
    "                 JOIN matches m\n",
    "                 ON ut.TeamName = m.AwayTeam\n",
    "                 WHERE m.Season == 2011\n",
    "                 GROUP BY Team_name \n",
    "                )\n",
    "           GROUP BY Team_name \n",
    "           \"\"\"    \n",
    "df1 = pd.read_sql_query(query, con)\n",
    "\n",
    "display(df1.shape)\n",
    "\n",
    "# Check total goal matches original source\n",
    "\n",
    "display(df1.Total_goals.sum())\n",
    "display(df1.sort_values(by = 'Total_goals', ascending = False).head(10))"
   ]
  },
  {
   "cell_type": "markdown",
   "metadata": {},
   "source": [
    "### Question 3: The total number of wins the team earned during the 2011 season ###"
   ]
  },
  {
   "cell_type": "code",
   "execution_count": 1028,
   "metadata": {
    "scrolled": true
   },
   "outputs": [
    {
     "data": {
      "text/plain": [
       "(56, 2)"
      ]
     },
     "metadata": {},
     "output_type": "display_data"
    },
    {
     "data": {
      "text/html": [
       "<div>\n",
       "<style scoped>\n",
       "    .dataframe tbody tr th:only-of-type {\n",
       "        vertical-align: middle;\n",
       "    }\n",
       "\n",
       "    .dataframe tbody tr th {\n",
       "        vertical-align: top;\n",
       "    }\n",
       "\n",
       "    .dataframe thead th {\n",
       "        text-align: right;\n",
       "    }\n",
       "</style>\n",
       "<table border=\"1\" class=\"dataframe\">\n",
       "  <thead>\n",
       "    <tr style=\"text-align: right;\">\n",
       "      <th></th>\n",
       "      <th>Team_name</th>\n",
       "      <th>Num_of_wins</th>\n",
       "    </tr>\n",
       "  </thead>\n",
       "  <tbody>\n",
       "    <tr>\n",
       "      <td>36</td>\n",
       "      <td>Man United</td>\n",
       "      <td>28</td>\n",
       "    </tr>\n",
       "    <tr>\n",
       "      <td>35</td>\n",
       "      <td>Man City</td>\n",
       "      <td>28</td>\n",
       "    </tr>\n",
       "    <tr>\n",
       "      <td>11</td>\n",
       "      <td>Dortmund</td>\n",
       "      <td>25</td>\n",
       "    </tr>\n",
       "    <tr>\n",
       "      <td>4</td>\n",
       "      <td>Bayern Munich</td>\n",
       "      <td>23</td>\n",
       "    </tr>\n",
       "    <tr>\n",
       "      <td>1</td>\n",
       "      <td>Arsenal</td>\n",
       "      <td>21</td>\n",
       "    </tr>\n",
       "    <tr>\n",
       "      <td>49</td>\n",
       "      <td>Tottenham</td>\n",
       "      <td>20</td>\n",
       "    </tr>\n",
       "    <tr>\n",
       "      <td>43</td>\n",
       "      <td>Schalke 04</td>\n",
       "      <td>20</td>\n",
       "    </tr>\n",
       "    <tr>\n",
       "      <td>14</td>\n",
       "      <td>Ein Frankfurt</td>\n",
       "      <td>20</td>\n",
       "    </tr>\n",
       "    <tr>\n",
       "      <td>22</td>\n",
       "      <td>Greuther Furth</td>\n",
       "      <td>20</td>\n",
       "    </tr>\n",
       "    <tr>\n",
       "      <td>38</td>\n",
       "      <td>Newcastle</td>\n",
       "      <td>19</td>\n",
       "    </tr>\n",
       "  </tbody>\n",
       "</table>\n",
       "</div>"
      ],
      "text/plain": [
       "         Team_name  Num_of_wins\n",
       "36      Man United           28\n",
       "35        Man City           28\n",
       "11        Dortmund           25\n",
       "4    Bayern Munich           23\n",
       "1          Arsenal           21\n",
       "49       Tottenham           20\n",
       "43      Schalke 04           20\n",
       "14   Ein Frankfurt           20\n",
       "22  Greuther Furth           20\n",
       "38       Newcastle           19"
      ]
     },
     "metadata": {},
     "output_type": "display_data"
    }
   ],
   "source": [
    "# Number of Wins\n",
    "\n",
    "query = \"\"\" SELECT * FROM\n",
    "                         (\n",
    "                          SELECT CASE\n",
    "                                      WHEN FTHG > FTAG THEN HomeTeam\n",
    "                                      WHEN FTHG < FTAG THEN AwayTeam\n",
    "                                      ELSE \"Draw\"\n",
    "                                      END Team_name,\n",
    "                                 COUNT(Match_ID) Num_of_wins\n",
    "                          FROM Matches\n",
    "                          WHERE Season == 2011\n",
    "                          GROUP BY Team_name\n",
    "                         )\n",
    "                      WHERE Team_name != \"Draw\"\n",
    "                      \"\"\"\n",
    "df3 = pd.read_sql_query(query, con)\n",
    "display(df3.shape)\n",
    "display(df3.sort_values(by = 'Num_of_wins', ascending = False).head(10))"
   ]
  },
  {
   "cell_type": "markdown",
   "metadata": {},
   "source": [
    "**Question 4: A histogram visualization of the team's wins and losses for the 2011 season (store the visualization directly by assigning it to a variable)**"
   ]
  },
  {
   "cell_type": "code",
   "execution_count": 1015,
   "metadata": {
    "scrolled": true
   },
   "outputs": [
    {
     "data": {
      "text/plain": [
       "(56, 3)"
      ]
     },
     "metadata": {},
     "output_type": "display_data"
    },
    {
     "data": {
      "text/html": [
       "<div>\n",
       "<style scoped>\n",
       "    .dataframe tbody tr th:only-of-type {\n",
       "        vertical-align: middle;\n",
       "    }\n",
       "\n",
       "    .dataframe tbody tr th {\n",
       "        vertical-align: top;\n",
       "    }\n",
       "\n",
       "    .dataframe thead th {\n",
       "        text-align: right;\n",
       "    }\n",
       "</style>\n",
       "<table border=\"1\" class=\"dataframe\">\n",
       "  <thead>\n",
       "    <tr style=\"text-align: right;\">\n",
       "      <th></th>\n",
       "      <th>Team_name</th>\n",
       "      <th>Num_of_wins</th>\n",
       "      <th>Num_of_loss</th>\n",
       "    </tr>\n",
       "  </thead>\n",
       "  <tbody>\n",
       "    <tr>\n",
       "      <td>36</td>\n",
       "      <td>Man United</td>\n",
       "      <td>28</td>\n",
       "      <td>5</td>\n",
       "    </tr>\n",
       "    <tr>\n",
       "      <td>35</td>\n",
       "      <td>Man City</td>\n",
       "      <td>28</td>\n",
       "      <td>5</td>\n",
       "    </tr>\n",
       "    <tr>\n",
       "      <td>11</td>\n",
       "      <td>Dortmund</td>\n",
       "      <td>25</td>\n",
       "      <td>3</td>\n",
       "    </tr>\n",
       "    <tr>\n",
       "      <td>4</td>\n",
       "      <td>Bayern Munich</td>\n",
       "      <td>23</td>\n",
       "      <td>7</td>\n",
       "    </tr>\n",
       "    <tr>\n",
       "      <td>1</td>\n",
       "      <td>Arsenal</td>\n",
       "      <td>21</td>\n",
       "      <td>10</td>\n",
       "    </tr>\n",
       "    <tr>\n",
       "      <td>49</td>\n",
       "      <td>Tottenham</td>\n",
       "      <td>20</td>\n",
       "      <td>9</td>\n",
       "    </tr>\n",
       "    <tr>\n",
       "      <td>43</td>\n",
       "      <td>Schalke 04</td>\n",
       "      <td>20</td>\n",
       "      <td>10</td>\n",
       "    </tr>\n",
       "    <tr>\n",
       "      <td>14</td>\n",
       "      <td>Ein Frankfurt</td>\n",
       "      <td>20</td>\n",
       "      <td>6</td>\n",
       "    </tr>\n",
       "    <tr>\n",
       "      <td>22</td>\n",
       "      <td>Greuther Furth</td>\n",
       "      <td>20</td>\n",
       "      <td>4</td>\n",
       "    </tr>\n",
       "    <tr>\n",
       "      <td>38</td>\n",
       "      <td>Newcastle</td>\n",
       "      <td>19</td>\n",
       "      <td>11</td>\n",
       "    </tr>\n",
       "  </tbody>\n",
       "</table>\n",
       "</div>"
      ],
      "text/plain": [
       "         Team_name  Num_of_wins  Num_of_loss\n",
       "36      Man United           28            5\n",
       "35        Man City           28            5\n",
       "11        Dortmund           25            3\n",
       "4    Bayern Munich           23            7\n",
       "1          Arsenal           21           10\n",
       "49       Tottenham           20            9\n",
       "43      Schalke 04           20           10\n",
       "14   Ein Frankfurt           20            6\n",
       "22  Greuther Furth           20            4\n",
       "38       Newcastle           19           11"
      ]
     },
     "metadata": {},
     "output_type": "display_data"
    }
   ],
   "source": [
    "# Number of Wins & Losses by team combined\n",
    "\n",
    "query = \"\"\"SELECT * FROM\n",
    "                         (\n",
    "                          SELECT t1.Team_name, t1.Num_of_wins, t2.Num_of_loss\n",
    "                          FROM\n",
    "                               (\n",
    "                                SELECT CASE\n",
    "                                            WHEN FTHG > FTAG THEN HomeTeam\n",
    "                                            WHEN FTHG < FTAG THEN AwayTeam\n",
    "                                            ELSE \"Draw\"\n",
    "                                            END Team_name,\n",
    "                                       COUNT(Match_ID) Num_of_wins\n",
    "                                FROM Matches\n",
    "                                WHERE Season == 2011\n",
    "                                GROUP BY Team_name\n",
    "                               )\n",
    "                                t1\n",
    "                          JOIN\n",
    "                               (\n",
    "                                SELECT CASE\n",
    "                                            WHEN FTHG < FTAG THEN HomeTeam\n",
    "                                            WHEN FTHG > FTAG THEN AwayTeam\n",
    "                                            ELSE \"Draw\"\n",
    "                                            END Team_name,\n",
    "                                       COUNT(Match_ID) Num_of_loss\n",
    "                                FROM Matches\n",
    "                                WHERE Season == 2011\n",
    "                                GROUP BY Team_name\n",
    "                               )\n",
    "                                t2\n",
    "                          ON t1.Team_name = t2.Team_name\n",
    "                         )\n",
    "                     WHERE Team_name != \"Draw\"\n",
    "                     \"\"\"\n",
    "df4 = pd.read_sql_query(query, con)\n",
    "display(df4.shape)\n",
    "df4_sort = df4.sort_values(by = 'Num_of_wins', ascending = False)\n",
    "display(df4_sort.head(10))"
   ]
  },
  {
   "cell_type": "code",
   "execution_count": 1016,
   "metadata": {},
   "outputs": [
    {
     "data": {
      "text/plain": [
       "<matplotlib.axes._subplots.AxesSubplot at 0x11e80ed10>"
      ]
     },
     "execution_count": 1016,
     "metadata": {},
     "output_type": "execute_result"
    },
    {
     "data": {
      "image/png": "[encoded data removed]",
      "text/plain": [
       "<Figure size 1440x360 with 1 Axes>"
      ]
     },
     "metadata": {
      "needs_background": "light"
     },
     "output_type": "display_data"
    }
   ],
   "source": [
    "# Plot data above\n",
    "\n",
    "fig = plt.figure(figsize=(20,5))\n",
    "ax  = plt.subplot()\n",
    "fig.add_axes(ax)\n",
    "\n",
    "ax.set_title('Number of wins and losses by team during 2011 season')\n",
    "ax.set_ylabel('Number of games')\n",
    "df4_sort.plot(x=\"Team_name\", kind=\"bar\", ax=ax)"
   ]
  },
  {
   "cell_type": "markdown",
   "metadata": {},
   "source": [
    "### Question 5: The team's win percentage on days where it was raining during games in the 2011 season. ###"
   ]
  },
  {
   "cell_type": "markdown",
   "metadata": {},
   "source": [
    "**Part 1: Explore and extract from DarkSky API:**"
   ]
  },
  {
   "cell_type": "code",
   "execution_count": 840,
   "metadata": {},
   "outputs": [],
   "source": [
    "# Define functions to fetch data:\n",
    "\n",
    "def get_keys(path):\n",
    "    with open(path) as f:\n",
    "        return json.load(f)\n",
    "keys = get_keys(\"../darksky.json\")\n",
    "api_key = keys['api_key']"
   ]
  },
  {
   "cell_type": "code",
   "execution_count": 841,
   "metadata": {},
   "outputs": [],
   "source": [
    "# Function to fetch data from Dark Sky\n",
    "\n",
    "def getdarksky(lat,lon,time):\n",
    "    link = f'https://api.darksky.net/forecast/{api_key}/{lat},{lon},{time}'\n",
    "    r = requests.get(link)\n",
    "    return r.json()"
   ]
  },
  {
   "cell_type": "code",
   "execution_count": 1017,
   "metadata": {
    "scrolled": true
   },
   "outputs": [],
   "source": [
    "# Using Berlin coordinates as assumption for all locations\n",
    "\n",
    "# Preview sample data from today\n",
    "\n",
    "lat = 52.5200\n",
    "lon = -13.4050\n",
    "timeRecent = '2019-10-10T00:00:00Z'\n",
    "\n",
    "sky = getdarksky(lat, lon, timeRecent)"
   ]
  },
  {
   "cell_type": "code",
   "execution_count": 843,
   "metadata": {},
   "outputs": [
    {
     "data": {
      "text/plain": [
       "dict_keys(['latitude', 'longitude', 'timezone', 'currently', 'hourly', 'daily', 'flags', 'offset'])"
      ]
     },
     "execution_count": 843,
     "metadata": {},
     "output_type": "execute_result"
    }
   ],
   "source": [
    "# Explore json output's high-level structure\n",
    "\n",
    "sky.keys()"
   ]
  },
  {
   "cell_type": "code",
   "execution_count": 1021,
   "metadata": {},
   "outputs": [
    {
     "data": {
      "text/plain": [
       "8"
      ]
     },
     "execution_count": 1021,
     "metadata": {},
     "output_type": "execute_result"
    }
   ],
   "source": [
    "len(sky.keys())"
   ]
  },
  {
   "cell_type": "code",
   "execution_count": 1031,
   "metadata": {},
   "outputs": [
    {
     "data": {
      "text/plain": [
       "dict_keys(['time', 'summary', 'icon', 'precipIntensity', 'precipProbability', 'precipType', 'temperature', 'apparentTemperature', 'dewPoint', 'humidity', 'pressure', 'windSpeed', 'windGust', 'windBearing', 'cloudCover', 'uvIndex', 'visibility', 'ozone'])"
      ]
     },
     "execution_count": 1031,
     "metadata": {},
     "output_type": "execute_result"
    }
   ],
   "source": [
    "# Explore json output's structure for Current weather (at requested time)\n",
    "\n",
    "sky['currently'].keys()"
   ]
  },
  {
   "cell_type": "code",
   "execution_count": 1018,
   "metadata": {},
   "outputs": [
    {
     "data": {
      "text/plain": [
       "{'time': 1570665600,\n",
       " 'summary': 'Mostly Cloudy',\n",
       " 'icon': 'partly-cloudy-night',\n",
       " 'precipIntensity': 0.0004,\n",
       " 'precipProbability': 0.07,\n",
       " 'precipType': 'rain',\n",
       " 'temperature': 54.82,\n",
       " 'apparentTemperature': 54.82,\n",
       " 'dewPoint': 46.02,\n",
       " 'humidity': 0.72,\n",
       " 'pressure': 1009.3,\n",
       " 'windSpeed': 22.19,\n",
       " 'windGust': 25.99,\n",
       " 'windBearing': 250,\n",
       " 'cloudCover': 0.66,\n",
       " 'uvIndex': 0,\n",
       " 'visibility': 10,\n",
       " 'ozone': 269.7}"
      ]
     },
     "execution_count": 1018,
     "metadata": {},
     "output_type": "execute_result"
    }
   ],
   "source": [
    "# Identify useful key(s) that can be useful to determine weather status\n",
    "\n",
    "sky['currently']"
   ]
  },
  {
   "cell_type": "code",
   "execution_count": 1020,
   "metadata": {},
   "outputs": [
    {
     "data": {
      "text/plain": [
       "'partly-cloudy-night'"
      ]
     },
     "execution_count": 1020,
     "metadata": {},
     "output_type": "execute_result"
    }
   ],
   "source": [
    "# Select this key as a marker if it rained on a given day\n",
    "\n",
    "weather_type = sky['currently']['icon']\n",
    "weather_type"
   ]
  },
  {
   "cell_type": "code",
   "execution_count": 847,
   "metadata": {},
   "outputs": [
    {
     "data": {
      "text/plain": [
       "(165, 1)"
      ]
     },
     "metadata": {},
     "output_type": "display_data"
    },
    {
     "data": {
      "text/plain": [
       "Date    object\n",
       "dtype: object"
      ]
     },
     "metadata": {},
     "output_type": "display_data"
    }
   ],
   "source": [
    "# Get dates of all matches from SQL\n",
    "\n",
    "query = \"\"\"SELECT DISTINCT Date\n",
    "           FROM Matches\n",
    "           WHERE Season == 2011\n",
    "           ORDER BY Date\n",
    "           \"\"\"\n",
    "matchdates = pd.read_sql_query(query, con)\n",
    "display(matchdates.shape)\n",
    "display(matchdates.dtypes)\n"
   ]
  },
  {
   "cell_type": "code",
   "execution_count": 1032,
   "metadata": {},
   "outputs": [
    {
     "data": {
      "text/html": [
       "<div>\n",
       "<style scoped>\n",
       "    .dataframe tbody tr th:only-of-type {\n",
       "        vertical-align: middle;\n",
       "    }\n",
       "\n",
       "    .dataframe tbody tr th {\n",
       "        vertical-align: top;\n",
       "    }\n",
       "\n",
       "    .dataframe thead th {\n",
       "        text-align: right;\n",
       "    }\n",
       "</style>\n",
       "<table border=\"1\" class=\"dataframe\">\n",
       "  <thead>\n",
       "    <tr style=\"text-align: right;\">\n",
       "      <th></th>\n",
       "      <th>Date</th>\n",
       "      <th>Darksky_date</th>\n",
       "    </tr>\n",
       "  </thead>\n",
       "  <tbody>\n",
       "    <tr>\n",
       "      <td>0</td>\n",
       "      <td>2011-07-15</td>\n",
       "      <td>2011-07-15T00:00:00Z</td>\n",
       "    </tr>\n",
       "    <tr>\n",
       "      <td>1</td>\n",
       "      <td>2011-07-16</td>\n",
       "      <td>2011-07-16T00:00:00Z</td>\n",
       "    </tr>\n",
       "    <tr>\n",
       "      <td>2</td>\n",
       "      <td>2011-07-17</td>\n",
       "      <td>2011-07-17T00:00:00Z</td>\n",
       "    </tr>\n",
       "    <tr>\n",
       "      <td>3</td>\n",
       "      <td>2011-07-18</td>\n",
       "      <td>2011-07-18T00:00:00Z</td>\n",
       "    </tr>\n",
       "    <tr>\n",
       "      <td>4</td>\n",
       "      <td>2011-07-22</td>\n",
       "      <td>2011-07-22T00:00:00Z</td>\n",
       "    </tr>\n",
       "  </tbody>\n",
       "</table>\n",
       "</div>"
      ],
      "text/plain": [
       "         Date          Darksky_date\n",
       "0  2011-07-15  2011-07-15T00:00:00Z\n",
       "1  2011-07-16  2011-07-16T00:00:00Z\n",
       "2  2011-07-17  2011-07-17T00:00:00Z\n",
       "3  2011-07-18  2011-07-18T00:00:00Z\n",
       "4  2011-07-22  2011-07-22T00:00:00Z"
      ]
     },
     "metadata": {},
     "output_type": "display_data"
    }
   ],
   "source": [
    "# Convert date to the input format required by DarkSky\n",
    "\n",
    "matchdates['Darksky_date'] = matchdates['Date'].map(lambda x: f'{x}T00:00:00Z')\n",
    "display(matchdates.head(5))"
   ]
  },
  {
   "cell_type": "code",
   "execution_count": 849,
   "metadata": {},
   "outputs": [],
   "source": [
    "# Limit number of dates first for testing\n",
    "\n",
    "testdates = list(matchdates.Darksky_date[0:10])\n",
    "berlin_lat = 52.5200\n",
    "berlin_lon = -13.4050"
   ]
  },
  {
   "cell_type": "code",
   "execution_count": 1043,
   "metadata": {},
   "outputs": [],
   "source": [
    "# Function to extract rain information from multiple dates\n",
    "\n",
    "def darksky_rain_info(lat, lon, list_of_dates):\n",
    "    \n",
    "    precipTypeList = []\n",
    "    \n",
    "    for date in list_of_dates:\n",
    "        link = f'https://api.darksky.net/forecast/{api_key}/{lat},{lon},{date}'\n",
    "        r = requests.get(link)\n",
    "        skydata = r.json()\n",
    "        if len(skydata) >= 8:\n",
    "            precipType = skydata['currently']['icon']\n",
    "        else:\n",
    "            precipType = f'No data. Status={r.status_code}'\n",
    "        precipTypeList.append(precipType)\n",
    "        \n",
    "    precipTypeInfo = {}\n",
    "    \n",
    "    for i in range(len(list_of_dates)):\n",
    "        precipTypeInfo[list_of_dates[i]] = precipTypeList[i]    \n",
    "            \n",
    "    return precipTypeInfo\n"
   ]
  },
  {
   "cell_type": "code",
   "execution_count": 1044,
   "metadata": {},
   "outputs": [
    {
     "data": {
      "text/plain": [
       "{'2011-07-15T00:00:00Z': 'No data. Status=200',\n",
       " '2011-07-16T00:00:00Z': 'No data. Status=200',\n",
       " '2011-07-17T00:00:00Z': 'No data. Status=200',\n",
       " '2011-07-18T00:00:00Z': 'No data. Status=200',\n",
       " '2011-07-22T00:00:00Z': 'No data. Status=200',\n",
       " '2011-07-23T00:00:00Z': 'No data. Status=200',\n",
       " '2011-07-24T00:00:00Z': 'No data. Status=200',\n",
       " '2011-07-25T00:00:00Z': 'No data. Status=200',\n",
       " '2011-08-05T00:00:00Z': 'No data. Status=200',\n",
       " '2011-08-06T00:00:00Z': 'No data. Status=200'}"
      ]
     },
     "execution_count": 1044,
     "metadata": {},
     "output_type": "execute_result"
    }
   ],
   "source": [
    "# Run rain info with test data\n",
    "\n",
    "darksky_rain_info(berlin_lat, berlin_lon, testdates)\n"
   ]
  },
  {
   "cell_type": "markdown",
   "metadata": {},
   "source": [
    "**Note:**<br>\n",
    "For some unexplained reason, DarkSky data is not available to me when the dates are **older than the past 1 year**. Data older than 12-12-2018 gives out a valid status but the json output has no data inside it. <br><br>\n",
    "To confirm that this is an API issue instead of my Python codes, I tested this directly on the browser to bypass any coding and still get the same the result. Here's a sample when I entered 2011 data (as per the league table dates):"
   ]
  },
  {
   "cell_type": "code",
   "execution_count": 1022,
   "metadata": {},
   "outputs": [
    {
     "data": {
      "text/plain": [
       "{'time': 1310688000, 'uvIndex': 0}"
      ]
     },
     "execution_count": 1022,
     "metadata": {},
     "output_type": "execute_result"
    }
   ],
   "source": [
    "# Preview sample data from 2011 - Note that the generated data is practically blank.\n",
    "# I got the same missing data even when keyed in directly into the browser at:\n",
    "# https://api.darksky.net/forecast/e03e59714456ab18516c672f47df1166/52.52,-13.405,2011-07-15T00:00:00\n",
    "\n",
    "time2011 = '2011-07-15T00:00:00Z'\n",
    "\n",
    "sky2011 = getdarksky(berlin_lat, berlin_lon, time2011)\n",
    "sky2011['currently']"
   ]
  },
  {
   "cell_type": "markdown",
   "metadata": {},
   "source": [
    "Now to demonstrate that there is no data if I go back to dates **older than 1 year ago** before 13-12-2018.<br>\n",
    "All dates after 13-12-2018 have no issues."
   ]
  },
  {
   "cell_type": "code",
   "execution_count": 852,
   "metadata": {},
   "outputs": [
    {
     "data": {
      "text/plain": [
       "{'2018-12-08T00:00:00Z': 'No data. Status=200',\n",
       " '2018-12-09T00:00:00Z': 'No data. Status=200',\n",
       " '2018-12-10T00:00:00Z': 'No data. Status=200',\n",
       " '2018-12-11T00:00:00Z': 'No data. Status=200',\n",
       " '2018-12-12T00:00:00Z': 'No data. Status=200',\n",
       " '2018-12-13T00:00:00Z': 'partly-cloudy-night',\n",
       " '2018-12-14T00:00:00Z': 'partly-cloudy-night',\n",
       " '2018-12-15T00:00:00Z': 'partly-cloudy-night',\n",
       " '2018-12-16T00:00:00Z': 'wind',\n",
       " '2018-12-17T00:00:00Z': 'wind'}"
      ]
     },
     "execution_count": 852,
     "metadata": {},
     "output_type": "execute_result"
    }
   ],
   "source": [
    "# Using 8 dates between 2018-12-08 and 2018-12-15:\n",
    "\n",
    "testdates2 = ['2018-12-08T00:00:00Z', '2018-12-09T00:00:00Z', '2018-12-10T00:00:00Z', '2018-12-11T00:00:00Z',\n",
    "              '2018-12-12T00:00:00Z', '2018-12-13T00:00:00Z', '2018-12-14T00:00:00Z', '2018-12-15T00:00:00Z',\n",
    "              '2018-12-16T00:00:00Z', '2018-12-17T00:00:00Z']\n",
    "\n",
    "darkskytest2018 = darksky_rain_info(berlin_lat, berlin_lon, testdates2)\n",
    "darkskytest2018"
   ]
  },
  {
   "cell_type": "markdown",
   "metadata": {},
   "source": [
    "For the purpose of this exercise, since the API only gives me data for the past 1 year, I'm going to **restate 2011/2012 to be 2019** where API data is available:\n",
    "<br><br>"
   ]
  },
  {
   "cell_type": "code",
   "execution_count": 1023,
   "metadata": {},
   "outputs": [
    {
     "data": {
      "text/html": [
       "<div>\n",
       "<style scoped>\n",
       "    .dataframe tbody tr th:only-of-type {\n",
       "        vertical-align: middle;\n",
       "    }\n",
       "\n",
       "    .dataframe tbody tr th {\n",
       "        vertical-align: top;\n",
       "    }\n",
       "\n",
       "    .dataframe thead th {\n",
       "        text-align: right;\n",
       "    }\n",
       "</style>\n",
       "<table border=\"1\" class=\"dataframe\">\n",
       "  <thead>\n",
       "    <tr style=\"text-align: right;\">\n",
       "      <th></th>\n",
       "      <th>Date</th>\n",
       "      <th>Darksky_date</th>\n",
       "    </tr>\n",
       "  </thead>\n",
       "  <tbody>\n",
       "    <tr>\n",
       "      <td>0</td>\n",
       "      <td>2011-07-15</td>\n",
       "      <td>2019-01-15T00:00:00Z</td>\n",
       "    </tr>\n",
       "    <tr>\n",
       "      <td>1</td>\n",
       "      <td>2011-07-16</td>\n",
       "      <td>2019-01-16T00:00:00Z</td>\n",
       "    </tr>\n",
       "    <tr>\n",
       "      <td>2</td>\n",
       "      <td>2011-07-17</td>\n",
       "      <td>2019-01-17T00:00:00Z</td>\n",
       "    </tr>\n",
       "    <tr>\n",
       "      <td>3</td>\n",
       "      <td>2011-07-18</td>\n",
       "      <td>2019-01-18T00:00:00Z</td>\n",
       "    </tr>\n",
       "    <tr>\n",
       "      <td>4</td>\n",
       "      <td>2011-07-22</td>\n",
       "      <td>2019-01-22T00:00:00Z</td>\n",
       "    </tr>\n",
       "  </tbody>\n",
       "</table>\n",
       "</div>"
      ],
      "text/plain": [
       "         Date          Darksky_date\n",
       "0  2011-07-15  2019-01-15T00:00:00Z\n",
       "1  2011-07-16  2019-01-16T00:00:00Z\n",
       "2  2011-07-17  2019-01-17T00:00:00Z\n",
       "3  2011-07-18  2019-01-18T00:00:00Z\n",
       "4  2011-07-22  2019-01-22T00:00:00Z"
      ]
     },
     "execution_count": 1023,
     "metadata": {},
     "output_type": "execute_result"
    }
   ],
   "source": [
    "# Restating 2011/2012 dates into 2019 dates so that we can move on:\n",
    "# input in yyyy-mm-dd (with dash)\n",
    "\n",
    "def convert2019date(yyyymmdd):\n",
    "    \n",
    "    date_year  = yyyymmdd[0:4]\n",
    "    date_month = yyyymmdd[5:7]\n",
    "    date_day   = yyyymmdd[8:11]\n",
    "\n",
    "    new_year   = 2019 \n",
    "    \n",
    "    temp_month = int(yyyymmdd[5:7]) - 6 if int(yyyymmdd[5:7]) > 6 else int(yyyymmdd[5:7]) + 6\n",
    "\n",
    "    new_month  = '0' + str(temp_month) if temp_month < 10 else temp_month\n",
    "\n",
    "    return f'{new_year}-{new_month}-{date_day}T00:00:00Z'\n",
    "\n",
    "matchdates['Darksky_date'] = matchdates['Date'].map(convert2019date)\n",
    "\n",
    "matchdates.head()"
   ]
  },
  {
   "cell_type": "code",
   "execution_count": 860,
   "metadata": {},
   "outputs": [
    {
     "data": {
      "text/plain": [
       "{'2019-01-15T00:00:00Z': 'cloudy',\n",
       " '2019-01-16T00:00:00Z': 'cloudy',\n",
       " '2019-01-17T00:00:00Z': 'partly-cloudy-night',\n",
       " '2019-01-18T00:00:00Z': 'wind',\n",
       " '2019-01-22T00:00:00Z': 'wind'}"
      ]
     },
     "execution_count": 860,
     "metadata": {},
     "output_type": "execute_result"
    }
   ],
   "source": [
    "# Now test if API data is available for the restated dates:\n",
    "\n",
    "testdates2019 = list(matchdates.Darksky_date[0:5])\n",
    "\n",
    "darkskytest2019 = darksky_rain_info(berlin_lat, berlin_lon, testdates2019)\n",
    "darkskytest2019"
   ]
  },
  {
   "cell_type": "code",
   "execution_count": 1007,
   "metadata": {},
   "outputs": [],
   "source": [
    "# Fetch DarkSky with all dates\n",
    "\n",
    "searchdates = list(matchdates.Darksky_date)\n",
    "\n",
    "berlin_rain_dict = darksky_rain_info(berlin_lat, berlin_lon, searchdates)"
   ]
  },
  {
   "cell_type": "code",
   "execution_count": 1034,
   "metadata": {},
   "outputs": [
    {
     "data": {
      "text/plain": [
       "'cloudy'"
      ]
     },
     "metadata": {},
     "output_type": "display_data"
    },
    {
     "data": {
      "text/plain": [
       "'partly-cloudy-night'"
      ]
     },
     "metadata": {},
     "output_type": "display_data"
    }
   ],
   "source": [
    "# Quick test on output\n",
    "\n",
    "display(berlin_rain_dict['2019-01-16T00:00:00Z'])\n",
    "display(berlin_rain_dict['2019-01-17T00:00:00Z'])"
   ]
  },
  {
   "cell_type": "code",
   "execution_count": 1006,
   "metadata": {},
   "outputs": [
    {
     "data": {
      "text/html": [
       "<div>\n",
       "<style scoped>\n",
       "    .dataframe tbody tr th:only-of-type {\n",
       "        vertical-align: middle;\n",
       "    }\n",
       "\n",
       "    .dataframe tbody tr th {\n",
       "        vertical-align: top;\n",
       "    }\n",
       "\n",
       "    .dataframe thead th {\n",
       "        text-align: right;\n",
       "    }\n",
       "</style>\n",
       "<table border=\"1\" class=\"dataframe\">\n",
       "  <thead>\n",
       "    <tr style=\"text-align: right;\">\n",
       "      <th></th>\n",
       "      <th>Weather</th>\n",
       "    </tr>\n",
       "  </thead>\n",
       "  <tbody>\n",
       "    <tr>\n",
       "      <td>2019-02-08T00:00:00Z</td>\n",
       "      <td>rain</td>\n",
       "    </tr>\n",
       "    <tr>\n",
       "      <td>2019-02-12T00:00:00Z</td>\n",
       "      <td>wind</td>\n",
       "    </tr>\n",
       "    <tr>\n",
       "      <td>2019-02-13T00:00:00Z</td>\n",
       "      <td>wind</td>\n",
       "    </tr>\n",
       "    <tr>\n",
       "      <td>2019-02-14T00:00:00Z</td>\n",
       "      <td>cloudy</td>\n",
       "    </tr>\n",
       "    <tr>\n",
       "      <td>2019-02-15T00:00:00Z</td>\n",
       "      <td>wind</td>\n",
       "    </tr>\n",
       "    <tr>\n",
       "      <td>2019-02-19T00:00:00Z</td>\n",
       "      <td>cloudy</td>\n",
       "    </tr>\n",
       "    <tr>\n",
       "      <td>2019-02-20T00:00:00Z</td>\n",
       "      <td>rain</td>\n",
       "    </tr>\n",
       "  </tbody>\n",
       "</table>\n",
       "</div>"
      ],
      "text/plain": [
       "                     Weather\n",
       "2019-02-08T00:00:00Z    rain\n",
       "2019-02-12T00:00:00Z    wind\n",
       "2019-02-13T00:00:00Z    wind\n",
       "2019-02-14T00:00:00Z  cloudy\n",
       "2019-02-15T00:00:00Z    wind\n",
       "2019-02-19T00:00:00Z  cloudy\n",
       "2019-02-20T00:00:00Z    rain"
      ]
     },
     "execution_count": 1006,
     "metadata": {},
     "output_type": "execute_result"
    }
   ],
   "source": [
    "# Move to data frame and explore full weather data\n",
    "\n",
    "rain_df = pd.DataFrame(list(berlin_rain_dict.values()), index=list(berlin_rain_dict.keys()))\n",
    "rain_df = rain_df.rename(columns={0 : \"Weather\"})\n",
    "rain_df.iloc[11:18]"
   ]
  },
  {
   "cell_type": "markdown",
   "metadata": {},
   "source": [
    "**Part 2: Analyze team performance based on weather conditions:**"
   ]
  },
  {
   "cell_type": "code",
   "execution_count": 1030,
   "metadata": {},
   "outputs": [
    {
     "data": {
      "text/plain": [
       "(992, 9)"
      ]
     },
     "metadata": {},
     "output_type": "display_data"
    },
    {
     "data": {
      "text/plain": [
       "(992, 10)"
      ]
     },
     "metadata": {},
     "output_type": "display_data"
    },
    {
     "data": {
      "text/html": [
       "<div>\n",
       "<style scoped>\n",
       "    .dataframe tbody tr th:only-of-type {\n",
       "        vertical-align: middle;\n",
       "    }\n",
       "\n",
       "    .dataframe tbody tr th {\n",
       "        vertical-align: top;\n",
       "    }\n",
       "\n",
       "    .dataframe thead th {\n",
       "        text-align: right;\n",
       "    }\n",
       "</style>\n",
       "<table border=\"1\" class=\"dataframe\">\n",
       "  <thead>\n",
       "    <tr style=\"text-align: right;\">\n",
       "      <th></th>\n",
       "      <th>Match_ID</th>\n",
       "      <th>Div</th>\n",
       "      <th>Season</th>\n",
       "      <th>Date</th>\n",
       "      <th>HomeTeam</th>\n",
       "      <th>AwayTeam</th>\n",
       "      <th>FTHG</th>\n",
       "      <th>FTAG</th>\n",
       "      <th>FTR</th>\n",
       "      <th>Weather</th>\n",
       "    </tr>\n",
       "  </thead>\n",
       "  <tbody>\n",
       "    <tr>\n",
       "      <td>10</td>\n",
       "      <td>1505</td>\n",
       "      <td>D2</td>\n",
       "      <td>2011</td>\n",
       "      <td>2011-07-22</td>\n",
       "      <td>Duisburg</td>\n",
       "      <td>Cottbus</td>\n",
       "      <td>1</td>\n",
       "      <td>2</td>\n",
       "      <td>A</td>\n",
       "      <td>wind</td>\n",
       "    </tr>\n",
       "    <tr>\n",
       "      <td>11</td>\n",
       "      <td>1596</td>\n",
       "      <td>D2</td>\n",
       "      <td>2011</td>\n",
       "      <td>2011-07-22</td>\n",
       "      <td>Ingolstadt</td>\n",
       "      <td>Erzgebirge Aue</td>\n",
       "      <td>0</td>\n",
       "      <td>0</td>\n",
       "      <td>D</td>\n",
       "      <td>wind</td>\n",
       "    </tr>\n",
       "    <tr>\n",
       "      <td>12</td>\n",
       "      <td>1261</td>\n",
       "      <td>D2</td>\n",
       "      <td>2011</td>\n",
       "      <td>2011-07-23</td>\n",
       "      <td>Munich 1860</td>\n",
       "      <td>Karlsruhe</td>\n",
       "      <td>2</td>\n",
       "      <td>1</td>\n",
       "      <td>H</td>\n",
       "      <td>cloudy</td>\n",
       "    </tr>\n",
       "    <tr>\n",
       "      <td>13</td>\n",
       "      <td>1525</td>\n",
       "      <td>D2</td>\n",
       "      <td>2011</td>\n",
       "      <td>2011-07-23</td>\n",
       "      <td>Union Berlin</td>\n",
       "      <td>Greuther Furth</td>\n",
       "      <td>0</td>\n",
       "      <td>4</td>\n",
       "      <td>A</td>\n",
       "      <td>cloudy</td>\n",
       "    </tr>\n",
       "    <tr>\n",
       "      <td>14</td>\n",
       "      <td>1574</td>\n",
       "      <td>D2</td>\n",
       "      <td>2011</td>\n",
       "      <td>2011-07-24</td>\n",
       "      <td>Aachen</td>\n",
       "      <td>Braunschweig</td>\n",
       "      <td>0</td>\n",
       "      <td>2</td>\n",
       "      <td>A</td>\n",
       "      <td>wind</td>\n",
       "    </tr>\n",
       "    <tr>\n",
       "      <td>15</td>\n",
       "      <td>1390</td>\n",
       "      <td>D2</td>\n",
       "      <td>2011</td>\n",
       "      <td>2011-07-24</td>\n",
       "      <td>Dresden</td>\n",
       "      <td>Hansa Rostock</td>\n",
       "      <td>1</td>\n",
       "      <td>1</td>\n",
       "      <td>D</td>\n",
       "      <td>wind</td>\n",
       "    </tr>\n",
       "    <tr>\n",
       "      <td>16</td>\n",
       "      <td>1699</td>\n",
       "      <td>D2</td>\n",
       "      <td>2011</td>\n",
       "      <td>2011-07-24</td>\n",
       "      <td>Paderborn</td>\n",
       "      <td>Fortuna Dusseldorf</td>\n",
       "      <td>1</td>\n",
       "      <td>1</td>\n",
       "      <td>D</td>\n",
       "      <td>wind</td>\n",
       "    </tr>\n",
       "    <tr>\n",
       "      <td>17</td>\n",
       "      <td>1463</td>\n",
       "      <td>D2</td>\n",
       "      <td>2011</td>\n",
       "      <td>2011-07-25</td>\n",
       "      <td>Ein Frankfurt</td>\n",
       "      <td>St Pauli</td>\n",
       "      <td>1</td>\n",
       "      <td>1</td>\n",
       "      <td>D</td>\n",
       "      <td>partly-cloudy-night</td>\n",
       "    </tr>\n",
       "    <tr>\n",
       "      <td>18</td>\n",
       "      <td>1219</td>\n",
       "      <td>D1</td>\n",
       "      <td>2011</td>\n",
       "      <td>2011-08-05</td>\n",
       "      <td>Dortmund</td>\n",
       "      <td>Hamburg</td>\n",
       "      <td>3</td>\n",
       "      <td>1</td>\n",
       "      <td>H</td>\n",
       "      <td>rain</td>\n",
       "    </tr>\n",
       "    <tr>\n",
       "      <td>19</td>\n",
       "      <td>1684</td>\n",
       "      <td>D2</td>\n",
       "      <td>2011</td>\n",
       "      <td>2011-08-05</td>\n",
       "      <td>Fortuna Dusseldorf</td>\n",
       "      <td>Ingolstadt</td>\n",
       "      <td>4</td>\n",
       "      <td>1</td>\n",
       "      <td>H</td>\n",
       "      <td>rain</td>\n",
       "    </tr>\n",
       "  </tbody>\n",
       "</table>\n",
       "</div>"
      ],
      "text/plain": [
       "    Match_ID Div  Season        Date            HomeTeam            AwayTeam  \\\n",
       "10      1505  D2    2011  2011-07-22            Duisburg             Cottbus   \n",
       "11      1596  D2    2011  2011-07-22          Ingolstadt      Erzgebirge Aue   \n",
       "12      1261  D2    2011  2011-07-23         Munich 1860           Karlsruhe   \n",
       "13      1525  D2    2011  2011-07-23        Union Berlin      Greuther Furth   \n",
       "14      1574  D2    2011  2011-07-24              Aachen        Braunschweig   \n",
       "15      1390  D2    2011  2011-07-24             Dresden       Hansa Rostock   \n",
       "16      1699  D2    2011  2011-07-24           Paderborn  Fortuna Dusseldorf   \n",
       "17      1463  D2    2011  2011-07-25       Ein Frankfurt            St Pauli   \n",
       "18      1219  D1    2011  2011-08-05            Dortmund             Hamburg   \n",
       "19      1684  D2    2011  2011-08-05  Fortuna Dusseldorf          Ingolstadt   \n",
       "\n",
       "    FTHG  FTAG FTR              Weather  \n",
       "10     1     2   A                 wind  \n",
       "11     0     0   D                 wind  \n",
       "12     2     1   H               cloudy  \n",
       "13     0     4   A               cloudy  \n",
       "14     0     2   A                 wind  \n",
       "15     1     1   D                 wind  \n",
       "16     1     1   D                 wind  \n",
       "17     1     1   D  partly-cloudy-night  \n",
       "18     3     1   H                 rain  \n",
       "19     4     1   H                 rain  "
      ]
     },
     "metadata": {},
     "output_type": "display_data"
    }
   ],
   "source": [
    "# Return to SQL table Match\n",
    "\n",
    "query = \"\"\"SELECT *\n",
    "           FROM Matches\n",
    "           WHERE Season == 2011\n",
    "           ORDER BY HomeTeam, Date\n",
    "           \"\"\"\n",
    "df = pd.read_sql_query(query, con)\n",
    "display(df.shape)\n",
    "\n",
    "# Include WEATHER information to Match table\n",
    "\n",
    "df['Darksky_date'] = df['Date'].map(convert2019date)\n",
    "df = df.set_index('Darksky_date')\n",
    "df = df.join(rain_df)\n",
    "df = df.reset_index()\n",
    "df = df.drop(columns='index')\n",
    "\n",
    "display(df.shape)\n",
    "\n",
    "display(df.iloc[10:20])"
   ]
  },
  {
   "cell_type": "code",
   "execution_count": 931,
   "metadata": {},
   "outputs": [
    {
     "data": {
      "text/plain": [
       "partly-cloudy-night    58\n",
       "wind                   42\n",
       "cloudy                 31\n",
       "rain                   15\n",
       "clear-night            15\n",
       "No data. Status=400     4\n",
       "Name: Weather, dtype: int64"
      ]
     },
     "execution_count": 931,
     "metadata": {},
     "output_type": "execute_result"
    }
   ],
   "source": [
    "# Explore types of weather and its frequency by num of match days\n",
    "\n",
    "df_chk1 = df.drop_duplicates(['Date','Weather'])[['Date','Weather']]\n",
    "df_chk1.Weather.value_counts()"
   ]
  },
  {
   "cell_type": "code",
   "execution_count": 962,
   "metadata": {
    "scrolled": true
   },
   "outputs": [
    {
     "data": {
      "text/html": [
       "<div>\n",
       "<style scoped>\n",
       "    .dataframe tbody tr th:only-of-type {\n",
       "        vertical-align: middle;\n",
       "    }\n",
       "\n",
       "    .dataframe tbody tr th {\n",
       "        vertical-align: top;\n",
       "    }\n",
       "\n",
       "    .dataframe thead th {\n",
       "        text-align: right;\n",
       "    }\n",
       "</style>\n",
       "<table border=\"1\" class=\"dataframe\">\n",
       "  <thead>\n",
       "    <tr style=\"text-align: right;\">\n",
       "      <th></th>\n",
       "      <th>Win_rain</th>\n",
       "    </tr>\n",
       "  </thead>\n",
       "  <tbody>\n",
       "    <tr>\n",
       "      <td>Dortmund</td>\n",
       "      <td>4</td>\n",
       "    </tr>\n",
       "    <tr>\n",
       "      <td>Arsenal</td>\n",
       "      <td>4</td>\n",
       "    </tr>\n",
       "    <tr>\n",
       "      <td>Bayern Munich</td>\n",
       "      <td>4</td>\n",
       "    </tr>\n",
       "    <tr>\n",
       "      <td>Union Berlin</td>\n",
       "      <td>3</td>\n",
       "    </tr>\n",
       "    <tr>\n",
       "      <td>Greuther Furth</td>\n",
       "      <td>3</td>\n",
       "    </tr>\n",
       "  </tbody>\n",
       "</table>\n",
       "</div>"
      ],
      "text/plain": [
       "                Win_rain\n",
       "Dortmund               4\n",
       "Arsenal                4\n",
       "Bayern Munich          4\n",
       "Union Berlin           3\n",
       "Greuther Furth         3"
      ]
     },
     "execution_count": 962,
     "metadata": {},
     "output_type": "execute_result"
    }
   ],
   "source": [
    "# Filter to get rainy days only and exclude draws\n",
    "\n",
    "df_rain = df.loc[(df['Weather'] == 'rain') & (df['FTR'] != 'D'),\n",
    "                ['HomeTeam', 'AwayTeam', 'FTR', 'Weather']]\n",
    "\n",
    "# Pick winners only\n",
    "\n",
    "df_rain['Win_rain'] = df_rain.apply(lambda row: row['HomeTeam'] if row['FTR'] == 'H' else row['AwayTeam'], axis=1)\n",
    "\n",
    "# Count number of times winner appears (on rainy days)\n",
    "\n",
    "df_rain_win = pd.DataFrame(df_rain.Win_rain.value_counts())\n",
    "df_rain_win.head()"
   ]
  },
  {
   "cell_type": "code",
   "execution_count": 963,
   "metadata": {},
   "outputs": [
    {
     "data": {
      "text/html": [
       "<div>\n",
       "<style scoped>\n",
       "    .dataframe tbody tr th:only-of-type {\n",
       "        vertical-align: middle;\n",
       "    }\n",
       "\n",
       "    .dataframe tbody tr th {\n",
       "        vertical-align: top;\n",
       "    }\n",
       "\n",
       "    .dataframe thead th {\n",
       "        text-align: right;\n",
       "    }\n",
       "</style>\n",
       "<table border=\"1\" class=\"dataframe\">\n",
       "  <thead>\n",
       "    <tr style=\"text-align: right;\">\n",
       "      <th></th>\n",
       "      <th>Team_name</th>\n",
       "      <th>Num_of_wins</th>\n",
       "      <th>Num_of_loss</th>\n",
       "    </tr>\n",
       "  </thead>\n",
       "  <tbody>\n",
       "    <tr>\n",
       "      <td>0</td>\n",
       "      <td>Aachen</td>\n",
       "      <td>6</td>\n",
       "      <td>15</td>\n",
       "    </tr>\n",
       "    <tr>\n",
       "      <td>1</td>\n",
       "      <td>Arsenal</td>\n",
       "      <td>21</td>\n",
       "      <td>10</td>\n",
       "    </tr>\n",
       "    <tr>\n",
       "      <td>2</td>\n",
       "      <td>Aston Villa</td>\n",
       "      <td>7</td>\n",
       "      <td>14</td>\n",
       "    </tr>\n",
       "    <tr>\n",
       "      <td>3</td>\n",
       "      <td>Augsburg</td>\n",
       "      <td>8</td>\n",
       "      <td>12</td>\n",
       "    </tr>\n",
       "    <tr>\n",
       "      <td>4</td>\n",
       "      <td>Bayern Munich</td>\n",
       "      <td>23</td>\n",
       "      <td>7</td>\n",
       "    </tr>\n",
       "  </tbody>\n",
       "</table>\n",
       "</div>"
      ],
      "text/plain": [
       "       Team_name  Num_of_wins  Num_of_loss\n",
       "0         Aachen            6           15\n",
       "1        Arsenal           21           10\n",
       "2    Aston Villa            7           14\n",
       "3       Augsburg            8           12\n",
       "4  Bayern Munich           23            7"
      ]
     },
     "execution_count": 963,
     "metadata": {},
     "output_type": "execute_result"
    }
   ],
   "source": [
    "# Back to the previous wins & losses table from Question 4\n",
    "\n",
    "df4.head()"
   ]
  },
  {
   "cell_type": "code",
   "execution_count": 1025,
   "metadata": {
    "scrolled": true
   },
   "outputs": [
    {
     "data": {
      "text/html": [
       "<div>\n",
       "<style scoped>\n",
       "    .dataframe tbody tr th:only-of-type {\n",
       "        vertical-align: middle;\n",
       "    }\n",
       "\n",
       "    .dataframe tbody tr th {\n",
       "        vertical-align: top;\n",
       "    }\n",
       "\n",
       "    .dataframe thead th {\n",
       "        text-align: right;\n",
       "    }\n",
       "</style>\n",
       "<table border=\"1\" class=\"dataframe\">\n",
       "  <thead>\n",
       "    <tr style=\"text-align: right;\">\n",
       "      <th></th>\n",
       "      <th>Team_name</th>\n",
       "      <th>Num_of_wins</th>\n",
       "      <th>Win_rain</th>\n",
       "      <th>Rain_win_rate</th>\n",
       "    </tr>\n",
       "  </thead>\n",
       "  <tbody>\n",
       "    <tr>\n",
       "      <td>27</td>\n",
       "      <td>Hoffenheim</td>\n",
       "      <td>10</td>\n",
       "      <td>3</td>\n",
       "      <td>0.300000</td>\n",
       "    </tr>\n",
       "    <tr>\n",
       "      <td>26</td>\n",
       "      <td>Hertha</td>\n",
       "      <td>7</td>\n",
       "      <td>2</td>\n",
       "      <td>0.285714</td>\n",
       "    </tr>\n",
       "    <tr>\n",
       "      <td>51</td>\n",
       "      <td>Werder Bremen</td>\n",
       "      <td>11</td>\n",
       "      <td>3</td>\n",
       "      <td>0.272727</td>\n",
       "    </tr>\n",
       "    <tr>\n",
       "      <td>29</td>\n",
       "      <td>Kaiserslautern</td>\n",
       "      <td>4</td>\n",
       "      <td>1</td>\n",
       "      <td>0.250000</td>\n",
       "    </tr>\n",
       "    <tr>\n",
       "      <td>12</td>\n",
       "      <td>Dresden</td>\n",
       "      <td>12</td>\n",
       "      <td>3</td>\n",
       "      <td>0.250000</td>\n",
       "    </tr>\n",
       "    <tr>\n",
       "      <td>50</td>\n",
       "      <td>Union Berlin</td>\n",
       "      <td>14</td>\n",
       "      <td>3</td>\n",
       "      <td>0.214286</td>\n",
       "    </tr>\n",
       "    <tr>\n",
       "      <td>55</td>\n",
       "      <td>Wolves</td>\n",
       "      <td>5</td>\n",
       "      <td>1</td>\n",
       "      <td>0.200000</td>\n",
       "    </tr>\n",
       "    <tr>\n",
       "      <td>25</td>\n",
       "      <td>Hansa Rostock</td>\n",
       "      <td>5</td>\n",
       "      <td>1</td>\n",
       "      <td>0.200000</td>\n",
       "    </tr>\n",
       "    <tr>\n",
       "      <td>1</td>\n",
       "      <td>Arsenal</td>\n",
       "      <td>21</td>\n",
       "      <td>4</td>\n",
       "      <td>0.190476</td>\n",
       "    </tr>\n",
       "    <tr>\n",
       "      <td>18</td>\n",
       "      <td>Fortuna Dusseldorf</td>\n",
       "      <td>16</td>\n",
       "      <td>3</td>\n",
       "      <td>0.187500</td>\n",
       "    </tr>\n",
       "  </tbody>\n",
       "</table>\n",
       "</div>"
      ],
      "text/plain": [
       "             Team_name  Num_of_wins  Win_rain  Rain_win_rate\n",
       "27          Hoffenheim           10         3       0.300000\n",
       "26              Hertha            7         2       0.285714\n",
       "51       Werder Bremen           11         3       0.272727\n",
       "29      Kaiserslautern            4         1       0.250000\n",
       "12             Dresden           12         3       0.250000\n",
       "50        Union Berlin           14         3       0.214286\n",
       "55              Wolves            5         1       0.200000\n",
       "25       Hansa Rostock            5         1       0.200000\n",
       "1              Arsenal           21         4       0.190476\n",
       "18  Fortuna Dusseldorf           16         3       0.187500"
      ]
     },
     "execution_count": 1025,
     "metadata": {},
     "output_type": "execute_result"
    }
   ],
   "source": [
    "# Join Win statistics with Weather information\n",
    "\n",
    "df5 = df4\n",
    "df5 = df5.set_index('Team_name')\n",
    "df5 = df4.join(df_rain_win, on = 'Team_name')\n",
    "df5['Win_rain'] = df5['Win_rain'].fillna(0)\n",
    "df5['Win_rain'] = df5['Win_rain'].astype(int)\n",
    "df5 = df5.drop(columns = ['Num_of_loss'])\n",
    "df5\n",
    "\n",
    "# Calculate the % winning games per team when it rains\n",
    "\n",
    "df5['Rain_win_rate'] = df5['Win_rain'] / df5['Num_of_wins']\n",
    "df5_sort = df5.sort_values(by = 'Rain_win_rate', ascending = False)\n",
    "\n",
    "df5_sort.head(10)\n",
    "\n",
    "# Note that the percentages below will be different from other students\n",
    "# since I am using Jan-Dec 2019 data as an assumption\n"
   ]
  },
  {
   "cell_type": "code",
   "execution_count": 1002,
   "metadata": {},
   "outputs": [
    {
     "data": {
      "text/plain": [
       "<matplotlib.axes._subplots.AxesSubplot at 0x11feb8c50>"
      ]
     },
     "execution_count": 1002,
     "metadata": {},
     "output_type": "execute_result"
    },
    {
     "data": {
      "image/png": "[encoded data removed]",
      "text/plain": [
       "<Figure size 1440x360 with 1 Axes>"
      ]
     },
     "metadata": {
      "needs_background": "light"
     },
     "output_type": "display_data"
    }
   ],
   "source": [
    "fig = plt.figure(figsize=(20,5))\n",
    "ax  = plt.subplot()\n",
    "fig.add_axes(ax)\n",
    "\n",
    "ax.set_title('Percentage of wins by team on a rainy match day during 2011 season')\n",
    "ax.set_ylabel('Percentage of wins')\n",
    "df5_sort.plot(x=\"Team_name\", y=\"Rain_win_rate\", kind=\"bar\", ax=ax)"
   ]
  },
  {
   "cell_type": "markdown",
   "metadata": {},
   "source": [
    "# Summary\n",
    "\n",
    "In this lab, we dug deep and used everything we've learned so far about python programming, databases, HTTP requests and API calls to ETL data from a SQL database into a MongoDB instance!"
   ]
  }
 ],
 "metadata": {
  "kernelspec": {
   "display_name": "Python 3",
   "language": "python",
   "name": "python3"
  },
  "language_info": {
   "codemirror_mode": {
    "name": "ipython",
    "version": 3
   },
   "file_extension": ".py",
   "mimetype": "text/x-python",
   "name": "python",
   "nbconvert_exporter": "python",
   "pygments_lexer": "ipython3",
   "version": "3.7.4"
  }
 },
 "nbformat": 4,
 "nbformat_minor": 2
}
